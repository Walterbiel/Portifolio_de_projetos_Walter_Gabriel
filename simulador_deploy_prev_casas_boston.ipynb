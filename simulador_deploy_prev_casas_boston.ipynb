{
  "nbformat": 4,
  "nbformat_minor": 0,
  "metadata": {
    "colab": {
      "name": "simulador_regressao.ipynb",
      "provenance": []
    },
    "kernelspec": {
      "name": "python3",
      "display_name": "Python 3"
    },
    "language_info": {
      "name": "python"
    }
  },
  "cells": [
    {
      "cell_type": "markdown",
      "metadata": {
        "id": "fQJ5CYV9Te0X"
      },
      "source": [
        "# **PrevCasa**"
      ]
    },
    {
      "cell_type": "markdown",
      "metadata": {
        "id": "kXFCCsVHTtTP"
      },
      "source": [
        "Este algoritmo realiza a previsão dos valores das casas em Boston com base em alguns fatores estruturais e sociais. "
      ]
    },
    {
      "cell_type": "markdown",
      "source": [
        "**Abertura dos atributos previsores e alvo**"
      ],
      "metadata": {
        "id": "zF4ZZ2IaMarJ"
      }
    },
    {
      "cell_type": "code",
      "source": [
        "import pandas as pd\n",
        "import numpy as np"
      ],
      "metadata": {
        "id": "WB8AihEHE-SO"
      },
      "execution_count": 1,
      "outputs": []
    },
    {
      "cell_type": "code",
      "source": [
        "independente = pd.read_csv('/content/independente.csv',header=None)"
      ],
      "metadata": {
        "id": "OgOCU0-ZE5JW"
      },
      "execution_count": 2,
      "outputs": []
    },
    {
      "cell_type": "code",
      "source": [
        "independente"
      ],
      "metadata": {
        "id": "OT_O9kmLiC3r"
      },
      "execution_count": null,
      "outputs": []
    },
    {
      "cell_type": "code",
      "source": [
        "independente = independente.values"
      ],
      "metadata": {
        "id": "98RdIzv6GAdC"
      },
      "execution_count": 5,
      "outputs": []
    },
    {
      "cell_type": "code",
      "source": [
        "dependente = pd.read_csv('/content/dependente.csv',header=None)"
      ],
      "metadata": {
        "id": "tu5Mpu8gG3Bw"
      },
      "execution_count": 7,
      "outputs": []
    },
    {
      "cell_type": "code",
      "source": [
        "dependente"
      ],
      "metadata": {
        "id": "U2HIYfy4G63G"
      },
      "execution_count": null,
      "outputs": []
    },
    {
      "cell_type": "code",
      "source": [
        "dependente = dependente.iloc[:, 0].values"
      ],
      "metadata": {
        "id": "RT7WpC3XG9Dt"
      },
      "execution_count": 9,
      "outputs": []
    },
    {
      "cell_type": "markdown",
      "source": [
        "**Carregando o Regressor Random Forest**"
      ],
      "metadata": {
        "id": "jH3OocboSGXH"
      }
    },
    {
      "cell_type": "code",
      "source": [
        "from sklearn.ensemble import RandomForestRegressor\n",
        "random = RandomForestRegressor(n_estimators=60, criterion='squared_error', max_depth=5, random_state = 10)\n",
        "random.fit(independente, dependente)"
      ],
      "metadata": {
        "colab": {
          "base_uri": "https://localhost:8080/"
        },
        "id": "bocaCQzKqK1v",
        "outputId": "8e94575d-5151-4b1a-8ed5-be3340ac4d17"
      },
      "execution_count": 11,
      "outputs": [
        {
          "output_type": "execute_result",
          "data": {
            "text/plain": [
              "RandomForestRegressor(max_depth=5, n_estimators=60, random_state=10)"
            ]
          },
          "metadata": {},
          "execution_count": 11
        }
      ]
    },
    {
      "cell_type": "markdown",
      "source": [
        "**Previsão dos valores das casas**"
      ],
      "metadata": {
        "id": "NGzVZVzkMzqv"
      }
    },
    {
      "cell_type": "code",
      "source": [
        "RM = input ('Qual o número de cômodos?')"
      ],
      "metadata": {
        "colab": {
          "base_uri": "https://localhost:8080/"
        },
        "id": "VZE8pMdgsoTY",
        "outputId": "9ee8a106-afb1-4f34-af1a-2e044ca92524"
      },
      "execution_count": 16,
      "outputs": [
        {
          "name": "stdout",
          "output_type": "stream",
          "text": [
            "Qual o número de cômodos?8\n"
          ]
        }
      ]
    },
    {
      "cell_type": "code",
      "source": [
        "LSTAT = input ('Qual a porcentagem de proprietários de classe baixa?')"
      ],
      "metadata": {
        "colab": {
          "base_uri": "https://localhost:8080/"
        },
        "id": "cBBtuF5Tsta8",
        "outputId": "914447b4-eed1-47a3-923a-6f15b7b9ebff"
      },
      "execution_count": 17,
      "outputs": [
        {
          "name": "stdout",
          "output_type": "stream",
          "text": [
            "Qual a porcentagem de proprietários de classe baixa?6\n"
          ]
        }
      ]
    },
    {
      "cell_type": "code",
      "source": [
        "PTRATIO = input ('Qual a razão entre o número de estudantes e professores?')"
      ],
      "metadata": {
        "colab": {
          "base_uri": "https://localhost:8080/"
        },
        "id": "Os6PnLoMs34b",
        "outputId": "8e6c0142-cae7-4be3-cce2-63d790e9ffee"
      },
      "execution_count": 18,
      "outputs": [
        {
          "name": "stdout",
          "output_type": "stream",
          "text": [
            "Qual a razão entre o número de estudantes e professores?15\n"
          ]
        }
      ]
    },
    {
      "cell_type": "code",
      "source": [
        "# Fazendo previsões para valores distintos\n",
        "informacoes = [RM, LSTAT, PTRATIO]\n",
        "valor_casa = random.predict([informacoes])\n",
        "print(\"O valor da casa é de US$ {:.2f}\".format(valor_casa[0]))"
      ],
      "metadata": {
        "colab": {
          "base_uri": "https://localhost:8080/"
        },
        "id": "anLpFG7CsIRB",
        "outputId": "6388ddc6-9249-4b4e-d506-76679087c256"
      },
      "execution_count": 19,
      "outputs": [
        {
          "output_type": "stream",
          "name": "stdout",
          "text": [
            "O valor da casa é de US$ 922605.50\n"
          ]
        }
      ]
    }
  ]
}