{
 "cells": [
  {
   "cell_type": "markdown",
   "metadata": {
    "id": "kXFCCsVHTtTP"
   },
   "source": [
    "Este projeto tem por objetivo desenvolver um algoritmo de Machine Learning para agrupar clientes de um shopping. "
   ]
  },
  {
   "cell_type": "code",
   "execution_count": 1,
   "metadata": {},
   "outputs": [
    {
     "name": "stderr",
     "output_type": "stream",
     "text": [
      "C:\\Users\\walte\\AppData\\Local\\Temp\\ipykernel_24892\\3777615979.py:1: DeprecationWarning: Importing display from IPython.core.display is deprecated since IPython 7.14, please import from IPython display\n",
      "  from IPython.core.display import display, HTML\n"
     ]
    },
    {
     "data": {
      "text/html": [
       "<style>.container { width:100% !important; }</style>"
      ],
      "text/plain": [
       "<IPython.core.display.HTML object>"
      ]
     },
     "metadata": {},
     "output_type": "display_data"
    }
   ],
   "source": [
    "from IPython.core.display import display, HTML\n",
    "display(HTML(\"<style>.container { width:100% !important; }</style>\"))"
   ]
  },
  {
   "cell_type": "code",
   "execution_count": null,
   "metadata": {
    "id": "nWvIcticlCs2"
   },
   "outputs": [],
   "source": [
    "import numpy as np\n",
    "import pandas as pd"
   ]
  },
  {
   "cell_type": "code",
   "execution_count": null,
   "metadata": {
    "id": "Ucm_66mjkInE"
   },
   "outputs": [],
   "source": [
    "import warnings\n",
    "warnings.filterwarnings(\"ignore\")"
   ]
  },
  {
   "cell_type": "code",
   "execution_count": null,
   "metadata": {
    "id": "LRIrwcC8kUhT"
   },
   "outputs": [],
   "source": [
    "df = pd.read_csv('/content/drive/MyDrive/Cursos_Udemy/Machine_Learning_com_Python/Mall_Customers.csv',\n",
    "                    sep=',', encoding='iso-8859-1')"
   ]
  },
  {
   "cell_type": "code",
   "execution_count": null,
   "metadata": {
    "id": "QtugliripIyp"
   },
   "outputs": [],
   "source": [
    "df.head()"
   ]
  },
  {
   "cell_type": "markdown",
   "metadata": {
    "id": "BxBX5HD17FZn"
   },
   "source": [
    "**ATRIBUTOS:** \n",
    "\n",
    "CustomerID: identificação do cliente.\n",
    "\n",
    "Genre: Gênero.\n",
    "\n",
    "Age: idade.\n",
    "\n",
    "Annual Income (k$):\tRendimento anual.\n",
    "\n",
    "Spending Score (1 a 100): Pontuação de gastos."
   ]
  },
  {
   "cell_type": "markdown",
   "metadata": {
    "id": "ajo3s-N0qCAp"
   },
   "source": [
    "**IDADE**"
   ]
  },
  {
   "cell_type": "code",
   "execution_count": null,
   "metadata": {
    "id": "skYTOCMwQ4_s"
   },
   "outputs": [],
   "source": [
    "import plotly.express as px"
   ]
  },
  {
   "cell_type": "code",
   "execution_count": null,
   "metadata": {
    "id": "W5Hco_eBQ7Tp"
   },
   "outputs": [],
   "source": [
    "hist =  px.histogram (df,  x = \"Age\", nbins=60) \n",
    "hist.update_layout(width=600,height=400,title_text='Distribuição das idades') \n",
    "hist.show()"
   ]
  },
  {
   "cell_type": "markdown",
   "metadata": {
    "id": "R7GluwRFqF8Z"
   },
   "source": [
    "**GÊNERO**"
   ]
  },
  {
   "cell_type": "code",
   "execution_count": null,
   "metadata": {
    "id": "UtjcZPmVSxGp"
   },
   "outputs": [],
   "source": [
    "df['Genre'].value_counts()"
   ]
  },
  {
   "cell_type": "code",
   "execution_count": null,
   "metadata": {
    "id": "XV1LBh7GhTFP"
   },
   "outputs": [],
   "source": [
    "import seaborn as sns"
   ]
  },
  {
   "cell_type": "code",
   "execution_count": null,
   "metadata": {
    "id": "iwjvbQgSTYwl"
   },
   "outputs": [],
   "source": [
    "sns.countplot(x='Genre', data=df);"
   ]
  },
  {
   "cell_type": "code",
   "execution_count": null,
   "metadata": {
    "id": "-pOctrVgQWpa"
   },
   "outputs": [],
   "source": [
    "df.shape"
   ]
  },
  {
   "cell_type": "markdown",
   "metadata": {
    "id": "HxaCUHTyTqsg"
   },
   "source": [
    "## **EXPLORAÇÃO E TRATAMENTO DOS DADOS**"
   ]
  },
  {
   "cell_type": "markdown",
   "metadata": {
    "id": "7QcMlMMAamjI"
   },
   "source": [
    "**Alterando nomes das colunas**"
   ]
  },
  {
   "cell_type": "code",
   "execution_count": null,
   "metadata": {
    "id": "XpEqSI9ZZjb8"
   },
   "outputs": [],
   "source": [
    "df.head(2)"
   ]
  },
  {
   "cell_type": "code",
   "execution_count": null,
   "metadata": {
    "id": "rLJ1sjR15Pil"
   },
   "outputs": [],
   "source": [
    "df.rename(columns={'CustomerID': 'identificacao'}, inplace=True)"
   ]
  },
  {
   "cell_type": "code",
   "execution_count": null,
   "metadata": {
    "id": "BRVHHLSHZ7dc"
   },
   "outputs": [],
   "source": [
    "df.rename(columns={'Genre': 'genero'}, inplace=True)\n",
    "df.rename(columns={'Age': 'idade'}, inplace=True)"
   ]
  },
  {
   "cell_type": "code",
   "execution_count": null,
   "metadata": {
    "id": "L751EFou5y2H"
   },
   "outputs": [],
   "source": [
    "df.rename(columns={'Annual Income (k$)': 'rendimento','Spending Score (1-100)':'pontuacao'}, inplace=True) "
   ]
  },
  {
   "cell_type": "code",
   "execution_count": null,
   "metadata": {
    "id": "5P6OcnfdFpg4"
   },
   "outputs": [],
   "source": [
    "df.head(3)"
   ]
  },
  {
   "cell_type": "markdown",
   "metadata": {
    "id": "3lk5kf4eZ_sL"
   },
   "source": [
    "**Valores Missing (NAN)**"
   ]
  },
  {
   "cell_type": "code",
   "execution_count": null,
   "metadata": {
    "id": "A24U7d5QYPaV"
   },
   "outputs": [],
   "source": [
    "# RELAÇÃO DA QUANTIDADE\n",
    "df.isnull().sum()"
   ]
  },
  {
   "cell_type": "markdown",
   "metadata": {
    "id": "Q_4_5j4Vlz2j"
   },
   "source": [
    "**Análise dos tipos de atributos.**"
   ]
  },
  {
   "cell_type": "code",
   "execution_count": null,
   "metadata": {
    "id": "wopAqivQXpqI"
   },
   "outputs": [],
   "source": [
    "# object: strings\n",
    "# int64: inteiros\n",
    "# float64: reais\n",
    "# complex: complexos\n",
    "df.dtypes"
   ]
  },
  {
   "cell_type": "markdown",
   "metadata": {
    "id": "GmQ0oYyVTYOv"
   },
   "source": [
    "**Dados Estatísticos**"
   ]
  },
  {
   "cell_type": "code",
   "execution_count": null,
   "metadata": {
    "id": "BE2XqrzRS8Zo"
   },
   "outputs": [],
   "source": [
    "df.describe()"
   ]
  },
  {
   "cell_type": "markdown",
   "metadata": {
    "id": "BjC9JIo5jJ79"
   },
   "source": [
    "**Análise dos outliers**"
   ]
  },
  {
   "cell_type": "code",
   "execution_count": null,
   "metadata": {
    "id": "9pBh8XgzjJOX"
   },
   "outputs": [],
   "source": [
    "import plotly.express as px"
   ]
  },
  {
   "cell_type": "code",
   "execution_count": null,
   "metadata": {
    "id": "R3RYMYZ0jQgO"
   },
   "outputs": [],
   "source": [
    "boxplot = px.box(df, y=\"rendimento\")\n",
    "boxplot.show()"
   ]
  },
  {
   "cell_type": "code",
   "execution_count": null,
   "metadata": {
    "id": "Dvs4lEHndQfg"
   },
   "outputs": [],
   "source": [
    "boxplot = px.box(df, y=\"idade\")\n",
    "boxplot.show()"
   ]
  },
  {
   "cell_type": "code",
   "execution_count": null,
   "metadata": {
    "id": "O7UgfqP4dT0V"
   },
   "outputs": [],
   "source": [
    "boxplot = px.box(df, y=\"pontuacao\")\n",
    "boxplot.show()"
   ]
  },
  {
   "cell_type": "markdown",
   "metadata": {
    "id": "VhAEKbnMhsA7"
   },
   "source": [
    "## **PRÉ-PROCESSAMENTO**"
   ]
  },
  {
   "cell_type": "code",
   "execution_count": null,
   "metadata": {
    "id": "h6815ba1e7B9"
   },
   "outputs": [],
   "source": [
    "df.head(2)"
   ]
  },
  {
   "cell_type": "markdown",
   "metadata": {
    "id": "ESNqyU7Jq7Vi"
   },
   "source": [
    "###**Excluir identificação do cliente**"
   ]
  },
  {
   "cell_type": "code",
   "execution_count": null,
   "metadata": {
    "id": "PDWO3Tk1q0XY"
   },
   "outputs": [],
   "source": [
    "df2 = df.drop(labels = 'identificacao', axis = 1)"
   ]
  },
  {
   "cell_type": "code",
   "execution_count": null,
   "metadata": {
    "id": "DNYn4ylbrCio"
   },
   "outputs": [],
   "source": [
    "df2.head(2)"
   ]
  },
  {
   "cell_type": "markdown",
   "metadata": {
    "id": "oBFSAQBtrJxs"
   },
   "source": [
    "###**Transformar variáveis categóricas em numéricas**"
   ]
  },
  {
   "cell_type": "code",
   "execution_count": null,
   "metadata": {
    "id": "tQKOjoeQrI39"
   },
   "outputs": [],
   "source": [
    "df2['genero'].replace({'Female': 0, 'Male': 1}, inplace=True)"
   ]
  },
  {
   "cell_type": "code",
   "execution_count": null,
   "metadata": {
    "id": "mlKoxv-irnLz"
   },
   "outputs": [],
   "source": [
    "df2.head(3)"
   ]
  },
  {
   "cell_type": "markdown",
   "metadata": {
    "id": "fe286LHJsKKs"
   },
   "source": [
    "###**Escalonamento**"
   ]
  },
  {
   "cell_type": "code",
   "execution_count": null,
   "metadata": {
    "id": "qsrGO_mOsYby"
   },
   "outputs": [],
   "source": [
    "from sklearn.preprocessing import StandardScaler"
   ]
  },
  {
   "cell_type": "code",
   "execution_count": null,
   "metadata": {
    "id": "KS9PoqfRsKVD"
   },
   "outputs": [],
   "source": [
    "escala = StandardScaler()\n",
    "df2_esc = escala.fit_transform(df2)"
   ]
  },
  {
   "cell_type": "code",
   "execution_count": null,
   "metadata": {
    "id": "43rc6sHusy-h"
   },
   "outputs": [],
   "source": [
    "df2_esc"
   ]
  },
  {
   "cell_type": "markdown",
   "metadata": {
    "id": "yLfzT092srdm"
   },
   "source": [
    "## **K-MEANS COM DOIS ATRIBUTOS**"
   ]
  },
  {
   "cell_type": "markdown",
   "metadata": {
    "id": "VM5oU_CcI44j"
   },
   "source": [
    "https://scikit-learn.org/stable/modules/generated/sklearn.cluster.KMeans.html "
   ]
  },
  {
   "cell_type": "code",
   "execution_count": null,
   "metadata": {
    "id": "P5lT9DtaOUc_"
   },
   "outputs": [],
   "source": [
    "df2"
   ]
  },
  {
   "cell_type": "code",
   "execution_count": null,
   "metadata": {
    "id": "CP3iUZQ1hsRQ"
   },
   "outputs": [],
   "source": [
    "dados = df2.iloc[:, [2,3]].values"
   ]
  },
  {
   "cell_type": "code",
   "execution_count": null,
   "metadata": {
    "id": "H23dt_eUd4ux"
   },
   "outputs": [],
   "source": [
    "dados"
   ]
  },
  {
   "cell_type": "markdown",
   "metadata": {
    "id": "H9r1X8Ksh8-L"
   },
   "source": [
    "**Elbow Method**"
   ]
  },
  {
   "cell_type": "code",
   "execution_count": null,
   "metadata": {
    "id": "-db_9Oa7h4NK"
   },
   "outputs": [],
   "source": [
    "from sklearn.cluster import KMeans\n",
    "wcss = []\n",
    "for i in range(1, 11):\n",
    "    kmeans = KMeans(n_clusters = i, init = 'k-means++', random_state = 5, max_iter = 300)\n",
    "    kmeans.fit(dados)\n",
    "    # inertia: Método para gerar o wcss\n",
    "    wcss.append(kmeans.inertia_)"
   ]
  },
  {
   "cell_type": "code",
   "execution_count": null,
   "metadata": {
    "id": "YJigC9DxiLFf"
   },
   "outputs": [],
   "source": [
    "import matplotlib.pyplot as plt\n",
    "import seaborn as sns"
   ]
  },
  {
   "cell_type": "code",
   "execution_count": null,
   "metadata": {
    "id": "qcC0f8CEiEY3"
   },
   "outputs": [],
   "source": [
    "plt.figure(figsize=(10,5))\n",
    "sns.lineplot(range(1, 11), wcss,marker='o',color='red')\n",
    "plt.title('The Elbow Method')\n",
    "plt.xlabel('Número de clusters')\n",
    "plt.ylabel('WCSS');"
   ]
  },
  {
   "cell_type": "markdown",
   "metadata": {
    "id": "mC0gBtKMjEnq"
   },
   "source": [
    "**Agrupamento**"
   ]
  },
  {
   "cell_type": "code",
   "execution_count": null,
   "metadata": {
    "id": "0JtxIbh9iie-"
   },
   "outputs": [],
   "source": [
    "kmeans = KMeans(n_clusters = 4, init = 'k-means++', random_state = 5, max_iter = 300)\n"
   ]
  },
  {
   "cell_type": "code",
   "execution_count": null,
   "metadata": {
    "id": "14qBA97tjKQl"
   },
   "outputs": [],
   "source": [
    "kmeans1 = kmeans.fit(dados)"
   ]
  },
  {
   "cell_type": "code",
   "execution_count": null,
   "metadata": {
    "id": "1iPLgmmnpSss"
   },
   "outputs": [],
   "source": [
    "# Coordenadas dos Centróides\n",
    "centroides = kmeans1.cluster_centers_\n",
    "centroides"
   ]
  },
  {
   "cell_type": "code",
   "execution_count": null,
   "metadata": {
    "id": "g46yWimvrk90"
   },
   "outputs": [],
   "source": [
    "# Classificação dos dados\n",
    "classificacao = kmeans1.labels_\n",
    "classificacao"
   ]
  },
  {
   "cell_type": "code",
   "execution_count": null,
   "metadata": {
    "id": "5V9JnLrtszt9"
   },
   "outputs": [],
   "source": [
    "dados[3,:]"
   ]
  },
  {
   "cell_type": "code",
   "execution_count": null,
   "metadata": {
    "id": "-1Z0dNjKtnaI"
   },
   "outputs": [],
   "source": [
    "classificacao[3]"
   ]
  },
  {
   "cell_type": "code",
   "execution_count": null,
   "metadata": {
    "id": "xFAODVuAvKPE"
   },
   "outputs": [],
   "source": [
    "import plotly.express as px\n",
    "import plotly.graph_objects as go"
   ]
  },
  {
   "cell_type": "code",
   "execution_count": null,
   "metadata": {
    "id": "0hvZy_mRrgiN"
   },
   "outputs": [],
   "source": [
    "graf1 = px.scatter(x = dados[:,0], y = dados[:,1], color=classificacao)\n",
    "graf2 = px.scatter(x = centroides[:,0], y = centroides[:,1], size = [15, 15, 15, 15])\n",
    "graf3 = go.Figure(data = graf1.data + graf2.data)\n",
    "graf3.update_layout(width=800,height=500,title_text='Agrupamento K-Means')\n",
    "graf3.update_xaxes(title = 'Rendimento anual (K$)')\n",
    "graf3.update_yaxes(title = 'Pontuação')\n",
    "graf3.show()"
   ]
  },
  {
   "cell_type": "code",
   "execution_count": null,
   "metadata": {
    "id": "FeZgPKec4VMx"
   },
   "outputs": [],
   "source": [
    "agrupamento = pd.DataFrame(classificacao, columns = ['Grupo'])\n",
    "agrupamento"
   ]
  },
  {
   "cell_type": "code",
   "execution_count": null,
   "metadata": {
    "id": "-8Ju3tbl4jcK"
   },
   "outputs": [],
   "source": [
    "df3 = pd.concat([df, agrupamento],axis=1)\n",
    "df3"
   ]
  },
  {
   "cell_type": "code",
   "execution_count": null,
   "metadata": {
    "id": "AZHx-GdQ5U4V"
   },
   "outputs": [],
   "source": [
    "df3.iloc[150 , :]"
   ]
  },
  {
   "cell_type": "code",
   "execution_count": null,
   "metadata": {
    "id": "bDBG6pcv5eAT"
   },
   "outputs": [],
   "source": [
    "df3.loc[df3.identificacao == 92] "
   ]
  },
  {
   "cell_type": "code",
   "execution_count": null,
   "metadata": {
    "id": "jCbHbVh45urk"
   },
   "outputs": [],
   "source": [
    "grupo0 = df3.loc[df3.Grupo == 0]\n",
    "grupo0 "
   ]
  },
  {
   "cell_type": "code",
   "execution_count": null,
   "metadata": {
    "id": "b43QYFcF58w0"
   },
   "outputs": [],
   "source": [
    "grupo0.shape"
   ]
  },
  {
   "cell_type": "code",
   "execution_count": null,
   "metadata": {
    "id": "y8PX13pw6BME"
   },
   "outputs": [],
   "source": [
    "grupo1 = df3.loc[df3.Grupo == 1]\n",
    "grupo1"
   ]
  },
  {
   "cell_type": "code",
   "execution_count": null,
   "metadata": {
    "id": "-He-dsXMiC6_"
   },
   "outputs": [],
   "source": [
    "grupo1.shape"
   ]
  },
  {
   "cell_type": "markdown",
   "metadata": {
    "id": "ZyODWRN4lXIf"
   },
   "source": [
    "## **K-MEANS COM TODOS ATRIBUTOS**"
   ]
  },
  {
   "cell_type": "code",
   "execution_count": null,
   "metadata": {
    "id": "X95Uxq6p7ULC"
   },
   "outputs": [],
   "source": [
    "df2_esc"
   ]
  },
  {
   "cell_type": "code",
   "execution_count": null,
   "metadata": {
    "id": "buG8t8_slzqi"
   },
   "outputs": [],
   "source": [
    "df2_esc.shape"
   ]
  },
  {
   "cell_type": "markdown",
   "metadata": {
    "id": "R-mUTBTslXIi"
   },
   "source": [
    "**Elbow Method**"
   ]
  },
  {
   "cell_type": "code",
   "execution_count": null,
   "metadata": {
    "id": "KhBY7OL8lXIi"
   },
   "outputs": [],
   "source": [
    "from sklearn.cluster import KMeans\n",
    "wcss = []\n",
    "for i in range(1,15):\n",
    "    kmeans = KMeans(n_clusters = i, init = 'k-means++', random_state = 5, max_iter = 300)\n",
    "    kmeans.fit(df2_esc)\n",
    "# Método inertia para gerar o wcss\n",
    "    wcss.append(kmeans.inertia_)"
   ]
  },
  {
   "cell_type": "code",
   "execution_count": null,
   "metadata": {
    "id": "Tr7tnKoJlXIj"
   },
   "outputs": [],
   "source": [
    "import matplotlib.pyplot as plt\n",
    "import seaborn as sns"
   ]
  },
  {
   "cell_type": "code",
   "execution_count": null,
   "metadata": {
    "id": "JoJfLSqWlXIj"
   },
   "outputs": [],
   "source": [
    "plt.figure(figsize=(10,5))\n",
    "sns.lineplot(range(1, 15), wcss,marker='o',color='red')\n",
    "plt.title('The Elbow Method')\n",
    "plt.xlabel('Número de clusters')\n",
    "plt.ylabel('WCSS');"
   ]
  },
  {
   "cell_type": "markdown",
   "metadata": {
    "id": "82FbN6pTlXIk"
   },
   "source": [
    "**Agrupamento**"
   ]
  },
  {
   "cell_type": "code",
   "execution_count": null,
   "metadata": {
    "id": "kxhE1MTGlXIl"
   },
   "outputs": [],
   "source": [
    "kmeans = KMeans(n_clusters = 6, init = 'k-means++', random_state = 5, max_iter = 300)\n"
   ]
  },
  {
   "cell_type": "code",
   "execution_count": null,
   "metadata": {
    "id": "VzBheeLa6rTT"
   },
   "outputs": [],
   "source": [
    "kmeans2 = kmeans.fit(df2_esc)"
   ]
  },
  {
   "cell_type": "code",
   "execution_count": null,
   "metadata": {
    "id": "_1iVCddo6rTm"
   },
   "outputs": [],
   "source": [
    "# Coordenadas dos Centróides\n",
    "centroides = kmeans2.cluster_centers_\n",
    "centroides"
   ]
  },
  {
   "cell_type": "code",
   "execution_count": null,
   "metadata": {
    "id": "P5BjwAHy9zSr"
   },
   "outputs": [],
   "source": [
    "# Inversão do escalonamento\n",
    "escala.inverse_transform(kmeans2.cluster_centers_)"
   ]
  },
  {
   "cell_type": "code",
   "execution_count": null,
   "metadata": {
    "id": "1r_MpYd46rTn"
   },
   "outputs": [],
   "source": [
    "# Classificação dos dados\n",
    "classificacao2 = kmeans2.labels_\n",
    "classificacao2"
   ]
  },
  {
   "cell_type": "code",
   "execution_count": null,
   "metadata": {
    "id": "nJjdz_hp6rTo"
   },
   "outputs": [],
   "source": [
    "classificacao2[199]"
   ]
  },
  {
   "cell_type": "code",
   "execution_count": null,
   "metadata": {
    "id": "bxffuPEt6rTq"
   },
   "outputs": [],
   "source": [
    "agrupamento2 = pd.DataFrame(classificacao2, columns = ['Grupo'])\n",
    "agrupamento2"
   ]
  },
  {
   "cell_type": "code",
   "execution_count": null,
   "metadata": {
    "id": "1yUTT24h6rTr"
   },
   "outputs": [],
   "source": [
    "df4 = pd.concat([df, agrupamento2],axis=1)\n",
    "df4"
   ]
  },
  {
   "cell_type": "code",
   "execution_count": null,
   "metadata": {
    "id": "QovpnOlH6rTr"
   },
   "outputs": [],
   "source": [
    "df4.iloc[125 , :]"
   ]
  },
  {
   "cell_type": "code",
   "execution_count": null,
   "metadata": {
    "id": "K_Qx0Une6rTs"
   },
   "outputs": [],
   "source": [
    "df4.loc[df4.identificacao == 76] "
   ]
  },
  {
   "cell_type": "code",
   "execution_count": null,
   "metadata": {
    "id": "VFvk21KT6rTs"
   },
   "outputs": [],
   "source": [
    "grupo0 = df4.loc[df4.Grupo == 0]\n",
    "grupo0 "
   ]
  },
  {
   "cell_type": "code",
   "execution_count": null,
   "metadata": {
    "id": "-jYnYjcq6rTs"
   },
   "outputs": [],
   "source": [
    "grupo0.shape"
   ]
  },
  {
   "cell_type": "markdown",
   "metadata": {
    "id": "N8oYhBUfx3nH"
   },
   "source": [
    "## **K-MEANS COM PCA**"
   ]
  },
  {
   "cell_type": "code",
   "execution_count": null,
   "metadata": {
    "id": "A4lFQAbPx3nJ"
   },
   "outputs": [],
   "source": [
    "df2_esc"
   ]
  },
  {
   "cell_type": "code",
   "execution_count": null,
   "metadata": {
    "id": "FAaXKGcwx3nK"
   },
   "outputs": [],
   "source": [
    "df2_esc.shape"
   ]
  },
  {
   "cell_type": "markdown",
   "metadata": {
    "id": "PKmrtqR78Uzw"
   },
   "source": [
    "**Componentes Principais**"
   ]
  },
  {
   "cell_type": "code",
   "execution_count": null,
   "metadata": {
    "id": "VFEUeVNhzsEC"
   },
   "outputs": [],
   "source": [
    "from sklearn.decomposition import PCA"
   ]
  },
  {
   "cell_type": "code",
   "execution_count": null,
   "metadata": {
    "id": "aoRBLYECztsx"
   },
   "outputs": [],
   "source": [
    "pca = PCA(n_components = 2)"
   ]
  },
  {
   "cell_type": "code",
   "execution_count": null,
   "metadata": {
    "id": "IMrlaf4szS8e"
   },
   "outputs": [],
   "source": [
    "df2_pca = pca.fit_transform(df2_esc)"
   ]
  },
  {
   "cell_type": "code",
   "execution_count": null,
   "metadata": {
    "id": "3oa-hENk0H1i"
   },
   "outputs": [],
   "source": [
    "df2_pca"
   ]
  },
  {
   "cell_type": "code",
   "execution_count": null,
   "metadata": {
    "id": "hdBAi-piY28x"
   },
   "outputs": [],
   "source": [
    "# razão das variáveis explicativas\n",
    "pca.explained_variance_ratio_"
   ]
  },
  {
   "cell_type": "code",
   "execution_count": null,
   "metadata": {
    "id": "lBxPFP0VZR1I"
   },
   "outputs": [],
   "source": [
    "# Soma das variáveis explicativas\n",
    "pca.explained_variance_ratio_.sum()"
   ]
  },
  {
   "cell_type": "markdown",
   "metadata": {
    "id": "12uyBf4xx3nL"
   },
   "source": [
    "**Elbow Method**"
   ]
  },
  {
   "cell_type": "code",
   "execution_count": null,
   "metadata": {
    "id": "QN5UGOJhx3nM"
   },
   "outputs": [],
   "source": [
    "from sklearn.cluster import KMeans\n",
    "wcss = []\n",
    "for i in range(1, 11):\n",
    "    kmeans = KMeans(n_clusters = i, init = 'k-means++', random_state = 5, max_iter = 300)\n",
    "    kmeans.fit(df2_pca)\n",
    "# Método inertia para gerar o wcss\n",
    "    wcss.append(kmeans.inertia_)"
   ]
  },
  {
   "cell_type": "code",
   "execution_count": null,
   "metadata": {
    "id": "rHqAl1kd0ez6"
   },
   "outputs": [],
   "source": [
    "import matplotlib.pyplot as plt\n",
    "import seaborn as sns"
   ]
  },
  {
   "cell_type": "code",
   "execution_count": null,
   "metadata": {
    "id": "CZZYfVtq0ez8"
   },
   "outputs": [],
   "source": [
    "plt.figure(figsize=(10,5))\n",
    "sns.lineplot(range(1, 11), wcss,marker='o',color='red')\n",
    "plt.title('The Elbow Method')\n",
    "plt.xlabel('Número de clusters')\n",
    "plt.ylabel('WCSS');"
   ]
  },
  {
   "cell_type": "markdown",
   "metadata": {
    "id": "rqLD4sxt0ez9"
   },
   "source": [
    "**Agrupamento**"
   ]
  },
  {
   "cell_type": "code",
   "execution_count": null,
   "metadata": {
    "id": "hP0-r52I0ez-"
   },
   "outputs": [],
   "source": [
    "kmeans = KMeans(n_clusters = 4, init = 'k-means++', random_state = 5, max_iter = 300)\n"
   ]
  },
  {
   "cell_type": "code",
   "execution_count": null,
   "metadata": {
    "id": "fgI4lnLv0ez-"
   },
   "outputs": [],
   "source": [
    "kmeans3 = kmeans.fit(df2_pca)"
   ]
  },
  {
   "cell_type": "code",
   "execution_count": null,
   "metadata": {
    "id": "3TChV4bc0ez_"
   },
   "outputs": [],
   "source": [
    "# Coordenadas dos Centróides\n",
    "centroides = kmeans3.cluster_centers_\n",
    "centroides"
   ]
  },
  {
   "cell_type": "code",
   "execution_count": null,
   "metadata": {
    "id": "BGGT0wk00e0A"
   },
   "outputs": [],
   "source": [
    "# Classificação dos dados\n",
    "classificacao3 = kmeans3.labels_\n",
    "classificacao3"
   ]
  },
  {
   "cell_type": "code",
   "execution_count": null,
   "metadata": {
    "id": "KphGAItZ0e0B"
   },
   "outputs": [],
   "source": [
    "classificacao3[2]"
   ]
  },
  {
   "cell_type": "code",
   "execution_count": null,
   "metadata": {
    "id": "tbxP76X-2ac_"
   },
   "outputs": [],
   "source": [
    "import plotly.express as px\n",
    "import plotly.graph_objects as go"
   ]
  },
  {
   "cell_type": "code",
   "execution_count": null,
   "metadata": {
    "id": "hIOLtLeq2adA"
   },
   "outputs": [],
   "source": [
    "graf1 = px.scatter(x = df2_pca[:,0], y = df2_pca[:,1], color=classificacao3)\n",
    "graf2 = px.scatter(x = centroides[:,0], y = centroides[:,1], size = [15, 15, 15, 15])\n",
    "graf3 = go.Figure(data = graf1.data + graf2.data)\n",
    "graf3.update_layout(width=800,height=500,title_text='Agrupamento K-Means com PCA')\n",
    "graf3.update_xaxes(title = 'Componente 1')\n",
    "graf3.update_yaxes(title = 'Componente 2')\n",
    "graf3.show()"
   ]
  },
  {
   "cell_type": "code",
   "execution_count": null,
   "metadata": {
    "id": "akDlbFP10e0C"
   },
   "outputs": [],
   "source": [
    "agrupamento3 = pd.DataFrame(classificacao3, columns = ['Grupo'])\n",
    "agrupamento3"
   ]
  },
  {
   "cell_type": "code",
   "execution_count": null,
   "metadata": {
    "id": "FhmmWJYI0e0C"
   },
   "outputs": [],
   "source": [
    "df5 = pd.concat([df, agrupamento3],axis=1)\n",
    "df5"
   ]
  },
  {
   "cell_type": "code",
   "execution_count": null,
   "metadata": {
    "id": "zwWNoC3U0e0D"
   },
   "outputs": [],
   "source": [
    "df5.iloc[125 , :]"
   ]
  },
  {
   "cell_type": "code",
   "execution_count": null,
   "metadata": {
    "id": "qiS4uP8j0e0D"
   },
   "outputs": [],
   "source": [
    "df5.loc[df5.identificacao == 76] "
   ]
  },
  {
   "cell_type": "code",
   "execution_count": null,
   "metadata": {
    "id": "7c_KuFUv0e0E"
   },
   "outputs": [],
   "source": [
    "grupo0 = df5.loc[df5.Grupo == 0]\n",
    "grupo0 "
   ]
  },
  {
   "cell_type": "code",
   "execution_count": null,
   "metadata": {
    "id": "mWdLsqM30e0E"
   },
   "outputs": [],
   "source": [
    "grupo0.shape"
   ]
  },
  {
   "cell_type": "markdown",
   "metadata": {
    "id": "a8-uQCMz0e0F"
   },
   "source": [
    "## **ALGORITMO HIERÁRQUICO COM PCA**"
   ]
  },
  {
   "cell_type": "markdown",
   "metadata": {
    "id": "x2vPbgMuJJPi"
   },
   "source": [
    "https://scikit-learn.org/stable/modules/generated/sklearn.cluster.AgglomerativeClustering.html "
   ]
  },
  {
   "cell_type": "code",
   "execution_count": null,
   "metadata": {
    "id": "Ii5XArTOX8gQ"
   },
   "outputs": [],
   "source": [
    "df2.head()"
   ]
  },
  {
   "cell_type": "code",
   "execution_count": null,
   "metadata": {
    "id": "ljtUSFih90lf"
   },
   "outputs": [],
   "source": [
    "df2_esc"
   ]
  },
  {
   "cell_type": "code",
   "execution_count": null,
   "metadata": {
    "id": "ntYuM-li78x5"
   },
   "outputs": [],
   "source": [
    "df2_esc.shape"
   ]
  },
  {
   "cell_type": "markdown",
   "metadata": {
    "id": "kRbfqOzT7_VI"
   },
   "source": [
    "**Componentes Principais**"
   ]
  },
  {
   "cell_type": "code",
   "execution_count": null,
   "metadata": {
    "id": "TlSJepO878x8"
   },
   "outputs": [],
   "source": [
    "from sklearn.decomposition import PCA"
   ]
  },
  {
   "cell_type": "code",
   "execution_count": null,
   "metadata": {
    "id": "-n-Xr2rh78x9"
   },
   "outputs": [],
   "source": [
    "pca = PCA(n_components = 2)"
   ]
  },
  {
   "cell_type": "code",
   "execution_count": null,
   "metadata": {
    "id": "kIz83olU78x9"
   },
   "outputs": [],
   "source": [
    "df2_pca = pca.fit_transform(df2_esc)"
   ]
  },
  {
   "cell_type": "code",
   "execution_count": null,
   "metadata": {
    "id": "Q5G5gWjk78x-"
   },
   "outputs": [],
   "source": [
    "df2_pca"
   ]
  },
  {
   "cell_type": "markdown",
   "metadata": {
    "id": "WhSS6kvv-C3h"
   },
   "source": [
    "**Dendograma**"
   ]
  },
  {
   "cell_type": "code",
   "execution_count": null,
   "metadata": {
    "id": "aKUpnNYu5nwT"
   },
   "outputs": [],
   "source": [
    "import matplotlib.pyplot as plt\n",
    "from scipy.cluster.hierarchy import dendrogram, linkage"
   ]
  },
  {
   "cell_type": "code",
   "execution_count": null,
   "metadata": {
    "id": "Ieor4uK45U90"
   },
   "outputs": [],
   "source": [
    "dendrograma = dendrogram(linkage(df2_pca, method = 'complete'))"
   ]
  },
  {
   "cell_type": "code",
   "execution_count": null,
   "metadata": {
    "id": "HOf34UC37wim"
   },
   "outputs": [],
   "source": [
    "from sklearn.cluster import AgglomerativeClustering"
   ]
  },
  {
   "cell_type": "code",
   "execution_count": null,
   "metadata": {
    "id": "1AN6L6cz-SkN"
   },
   "outputs": [],
   "source": [
    "hier = AgglomerativeClustering(n_clusters=3, affinity='euclidean', linkage = 'complete')\n",
    "classificacao4 = hier.fit_predict(df2_pca)"
   ]
  },
  {
   "cell_type": "code",
   "execution_count": null,
   "metadata": {
    "id": "TfBoJa5L-fad"
   },
   "outputs": [],
   "source": [
    "classificacao4"
   ]
  },
  {
   "cell_type": "code",
   "execution_count": null,
   "metadata": {
    "id": "hmFGpfqd79iT"
   },
   "outputs": [],
   "source": [
    "import plotly.express as px"
   ]
  },
  {
   "cell_type": "code",
   "execution_count": null,
   "metadata": {
    "id": "56h38krX79iV"
   },
   "outputs": [],
   "source": [
    "graf = px.scatter(x = df2_pca[:,0], y = df2_pca[:,1], color=classificacao4)\n",
    "graf.update_layout(width=800,height=500,title_text='Agrupamento Hierárquico')\n",
    "graf.show()"
   ]
  },
  {
   "cell_type": "markdown",
   "metadata": {
    "id": "CDa4HtVj8l4Y"
   },
   "source": [
    "**Agrupamento**"
   ]
  },
  {
   "cell_type": "code",
   "execution_count": null,
   "metadata": {
    "id": "CDOknDo38i9n"
   },
   "outputs": [],
   "source": [
    "agrupamento4 = pd.DataFrame(classificacao4, columns = ['Grupo'])\n",
    "agrupamento4"
   ]
  },
  {
   "cell_type": "code",
   "execution_count": null,
   "metadata": {
    "id": "bkSe6nCF8i9o"
   },
   "outputs": [],
   "source": [
    "df6 = pd.concat([df, agrupamento4],axis=1)\n",
    "df6"
   ]
  },
  {
   "cell_type": "code",
   "execution_count": null,
   "metadata": {
    "id": "mfH0GI8F8i9q"
   },
   "outputs": [],
   "source": [
    "df6.loc[df6.identificacao == 22] "
   ]
  },
  {
   "cell_type": "code",
   "execution_count": null,
   "metadata": {
    "id": "lUpu9id-8i9q"
   },
   "outputs": [],
   "source": [
    "grupo2 = df6.loc[df6.Grupo == 2]\n",
    "grupo2 "
   ]
  },
  {
   "cell_type": "markdown",
   "metadata": {
    "id": "nHawQMs89sBv"
   },
   "source": [
    "## **ALGORITMO HIERÁRQUICO: todos atributos**\n",
    "\n",
    "\n",
    "\n",
    "\n"
   ]
  },
  {
   "cell_type": "code",
   "execution_count": null,
   "metadata": {
    "id": "2HZgLiHQlou2"
   },
   "outputs": [],
   "source": [
    "df2.head()"
   ]
  },
  {
   "cell_type": "code",
   "execution_count": null,
   "metadata": {
    "id": "aU64HSGL9sBx"
   },
   "outputs": [],
   "source": [
    "df2_esc"
   ]
  },
  {
   "cell_type": "code",
   "execution_count": null,
   "metadata": {
    "id": "GvcYljzo9sBy"
   },
   "outputs": [],
   "source": [
    "df2_esc.shape"
   ]
  },
  {
   "cell_type": "markdown",
   "metadata": {
    "id": "rDJzoa2D-MbQ"
   },
   "source": [
    "**Dendograma**"
   ]
  },
  {
   "cell_type": "code",
   "execution_count": null,
   "metadata": {
    "id": "VLm2BNlv9sBx"
   },
   "outputs": [],
   "source": [
    "import matplotlib.pyplot as plt\n",
    "from scipy.cluster.hierarchy import dendrogram, linkage"
   ]
  },
  {
   "cell_type": "code",
   "execution_count": null,
   "metadata": {
    "id": "QTBnxz_J9sB1"
   },
   "outputs": [],
   "source": [
    "dendrograma = dendrogram(linkage(df2_esc, method = 'average'))"
   ]
  },
  {
   "cell_type": "code",
   "execution_count": null,
   "metadata": {
    "id": "ymTB91459sB2"
   },
   "outputs": [],
   "source": [
    "from sklearn.cluster import AgglomerativeClustering"
   ]
  },
  {
   "cell_type": "code",
   "execution_count": null,
   "metadata": {
    "id": "1vrGzMSK9sB2"
   },
   "outputs": [],
   "source": [
    "hier = AgglomerativeClustering(n_clusters=7, affinity='euclidean', linkage = 'average')\n",
    "classificacao5 = hier.fit_predict(df2_esc)"
   ]
  },
  {
   "cell_type": "code",
   "execution_count": null,
   "metadata": {
    "id": "_zoU34yK9sB3"
   },
   "outputs": [],
   "source": [
    "classificacao5"
   ]
  },
  {
   "cell_type": "markdown",
   "metadata": {
    "id": "su34SbhO9sB4"
   },
   "source": [
    "**Agrupamento**"
   ]
  },
  {
   "cell_type": "code",
   "execution_count": null,
   "metadata": {
    "id": "VgPBp91_9sB5"
   },
   "outputs": [],
   "source": [
    "agrupamento5 = pd.DataFrame(classificacao5, columns = ['Grupo'])\n",
    "agrupamento5"
   ]
  },
  {
   "cell_type": "code",
   "execution_count": null,
   "metadata": {
    "id": "qMOFBccb9sB5"
   },
   "outputs": [],
   "source": [
    "df7 = pd.concat([df, agrupamento5],axis=1)\n",
    "df7"
   ]
  },
  {
   "cell_type": "code",
   "execution_count": null,
   "metadata": {
    "id": "5mGCvaTK9sB6"
   },
   "outputs": [],
   "source": [
    "df7.loc[df7.identificacao == 131]"
   ]
  },
  {
   "cell_type": "code",
   "execution_count": null,
   "metadata": {
    "id": "X-wWkvCj9sB7"
   },
   "outputs": [],
   "source": [
    "grupo4 = df7.loc[df7.Grupo == 6]\n",
    "grupo4.head(2)"
   ]
  },
  {
   "cell_type": "code",
   "execution_count": null,
   "metadata": {
    "id": "EMHY7rn9_iQH"
   },
   "outputs": [],
   "source": [
    "grupo4.shape"
   ]
  },
  {
   "cell_type": "markdown",
   "metadata": {
    "id": "O5-EwCdnBgBb"
   },
   "source": [
    "## **ALGORITMO DBSCAN COM PCA**"
   ]
  },
  {
   "cell_type": "markdown",
   "metadata": {
    "id": "ZAXoGI7pLylK"
   },
   "source": [
    "https://scikit-learn.org/stable/modules/generated/sklearn.cluster.DBSCAN.html "
   ]
  },
  {
   "cell_type": "code",
   "execution_count": null,
   "metadata": {
    "id": "yTXitQ0fBgBc"
   },
   "outputs": [],
   "source": [
    "df2_esc"
   ]
  },
  {
   "cell_type": "code",
   "execution_count": null,
   "metadata": {
    "id": "nXL-PY5EBgBd"
   },
   "outputs": [],
   "source": [
    "df2_esc.shape"
   ]
  },
  {
   "cell_type": "markdown",
   "metadata": {
    "id": "QwaIvBhABgBe"
   },
   "source": [
    "**Componentes Principais**"
   ]
  },
  {
   "cell_type": "code",
   "execution_count": null,
   "metadata": {
    "id": "bUau0xFYBgBe"
   },
   "outputs": [],
   "source": [
    "from sklearn.decomposition import PCA"
   ]
  },
  {
   "cell_type": "code",
   "execution_count": null,
   "metadata": {
    "id": "xJxtP0q5BgBf"
   },
   "outputs": [],
   "source": [
    "pca = PCA(n_components = 2)"
   ]
  },
  {
   "cell_type": "code",
   "execution_count": null,
   "metadata": {
    "id": "-nY_BZ-dBgBf"
   },
   "outputs": [],
   "source": [
    "df2_pca = pca.fit_transform(df2_esc)"
   ]
  },
  {
   "cell_type": "code",
   "execution_count": null,
   "metadata": {
    "id": "1SRryDS4BgBg"
   },
   "outputs": [],
   "source": [
    "df2_pca"
   ]
  },
  {
   "cell_type": "code",
   "execution_count": null,
   "metadata": {
    "id": "wQfTPFoUBgBi"
   },
   "outputs": [],
   "source": [
    "from sklearn.cluster import DBSCAN"
   ]
  },
  {
   "cell_type": "code",
   "execution_count": null,
   "metadata": {
    "id": "cbT6Bd8aBgBi"
   },
   "outputs": [],
   "source": [
    "dbscan = DBSCAN(eps = 0.32, min_samples=4)\n",
    "dbscan.fit(df2_pca)"
   ]
  },
  {
   "cell_type": "code",
   "execution_count": null,
   "metadata": {
    "id": "rPXzTru_CSyu"
   },
   "outputs": [],
   "source": [
    "classificacao6 = dbscan.labels_\n",
    "classificacao6"
   ]
  },
  {
   "cell_type": "code",
   "execution_count": null,
   "metadata": {
    "id": "hcPhnzzPBgBj"
   },
   "outputs": [],
   "source": [
    "import plotly.express as px"
   ]
  },
  {
   "cell_type": "code",
   "execution_count": null,
   "metadata": {
    "id": "00KyF5MkBgBk"
   },
   "outputs": [],
   "source": [
    "graf = px.scatter(x = df2_pca[:,0], y = df2_pca[:,1], color=classificacao6)\n",
    "graf.update_layout(width=800,height=500,title_text='Agrupamento DBSCAN')\n",
    "graf.show()"
   ]
  },
  {
   "cell_type": "markdown",
   "metadata": {
    "id": "cAIznYv_BgBk"
   },
   "source": [
    "**Agrupamento**"
   ]
  },
  {
   "cell_type": "code",
   "execution_count": null,
   "metadata": {
    "id": "eWjIORe2BgBl"
   },
   "outputs": [],
   "source": [
    "agrupamento6 = pd.DataFrame(classificacao6, columns = ['Grupo'])\n",
    "agrupamento6"
   ]
  },
  {
   "cell_type": "code",
   "execution_count": null,
   "metadata": {
    "id": "dugWabRCBgBl"
   },
   "outputs": [],
   "source": [
    "df8 = pd.concat([df, agrupamento6],axis=1)\n",
    "df8"
   ]
  },
  {
   "cell_type": "code",
   "execution_count": null,
   "metadata": {
    "id": "ffDWdASHBgBm"
   },
   "outputs": [],
   "source": [
    "df8.loc[df8.identificacao == 5] "
   ]
  },
  {
   "cell_type": "code",
   "execution_count": null,
   "metadata": {
    "id": "aybcZvfmBgBn"
   },
   "outputs": [],
   "source": [
    "ruido = df8.loc[df8.Grupo == -1]\n",
    "ruido "
   ]
  },
  {
   "cell_type": "code",
   "execution_count": null,
   "metadata": {
    "id": "4LCdujhiyOl0"
   },
   "outputs": [],
   "source": [
    "ruido.shape"
   ]
  },
  {
   "cell_type": "markdown",
   "metadata": {
    "id": "b0GeDSCv1cA5"
   },
   "source": [
    "## **ALGORITMO DBSCAN: todos atributos**"
   ]
  },
  {
   "cell_type": "code",
   "execution_count": null,
   "metadata": {
    "id": "MCgPQx6r1cA7"
   },
   "outputs": [],
   "source": [
    "df2_esc"
   ]
  },
  {
   "cell_type": "code",
   "execution_count": null,
   "metadata": {
    "id": "8PwnBaNy1cA7"
   },
   "outputs": [],
   "source": [
    "df2_esc.shape"
   ]
  },
  {
   "cell_type": "code",
   "execution_count": null,
   "metadata": {
    "id": "MxqM2YdQ1cA-"
   },
   "outputs": [],
   "source": [
    "from sklearn.cluster import DBSCAN"
   ]
  },
  {
   "cell_type": "code",
   "execution_count": null,
   "metadata": {
    "id": "nhqrK4Si1cA-"
   },
   "outputs": [],
   "source": [
    "dbscan = DBSCAN(eps = 0.73, min_samples=4)\n",
    "dbscan.fit(df2_esc)"
   ]
  },
  {
   "cell_type": "code",
   "execution_count": null,
   "metadata": {
    "id": "AXrUcH6J1cA_"
   },
   "outputs": [],
   "source": [
    "classificacao7 = dbscan.labels_\n",
    "classificacao7"
   ]
  },
  {
   "cell_type": "markdown",
   "metadata": {
    "id": "1Wd8WWlq1cBA"
   },
   "source": [
    "**Agrupamento**"
   ]
  },
  {
   "cell_type": "code",
   "execution_count": null,
   "metadata": {
    "id": "tx0ap37H1cBB"
   },
   "outputs": [],
   "source": [
    "agrupamento7 = pd.DataFrame(classificacao7, columns = ['Grupo'])\n",
    "agrupamento7"
   ]
  },
  {
   "cell_type": "code",
   "execution_count": null,
   "metadata": {
    "id": "wGftEOQL1cBB"
   },
   "outputs": [],
   "source": [
    "df9 = pd.concat([df, agrupamento7],axis=1)\n",
    "df9"
   ]
  },
  {
   "cell_type": "code",
   "execution_count": null,
   "metadata": {
    "id": "0tikmLlS1cBB"
   },
   "outputs": [],
   "source": [
    "df9.loc[df9.identificacao == 127] "
   ]
  },
  {
   "cell_type": "code",
   "execution_count": null,
   "metadata": {
    "id": "Vlkow2yC1cBC"
   },
   "outputs": [],
   "source": [
    "ruido = df9.loc[df9.Grupo == -1]\n",
    "ruido "
   ]
  },
  {
   "cell_type": "code",
   "execution_count": null,
   "metadata": {
    "id": "UQ-Uk1z00_6n"
   },
   "outputs": [],
   "source": [
    "ruido.shape"
   ]
  },
  {
   "cell_type": "code",
   "execution_count": null,
   "metadata": {
    "id": "ToVgDn3E1ExN"
   },
   "outputs": [],
   "source": [
    "grupo = df9.loc[df9.Grupo == 1]\n",
    "grupo.shape"
   ]
  },
  {
   "cell_type": "markdown",
   "metadata": {
    "id": "rxXUeesH4cZc"
   },
   "source": [
    "## **ALGORITMO MEANSHIFT COM PCA**"
   ]
  },
  {
   "cell_type": "markdown",
   "metadata": {
    "id": "Eeat9rN64cZd"
   },
   "source": [
    "https://scikit-learn.org/stable/modules/generated/sklearn.cluster.MeanShift.html"
   ]
  },
  {
   "cell_type": "code",
   "execution_count": null,
   "metadata": {
    "id": "faTVluMZ4cZd"
   },
   "outputs": [],
   "source": [
    "df2_esc"
   ]
  },
  {
   "cell_type": "code",
   "execution_count": null,
   "metadata": {
    "id": "glkVgs7e4cZd"
   },
   "outputs": [],
   "source": [
    "df2_esc.shape"
   ]
  },
  {
   "cell_type": "markdown",
   "metadata": {
    "id": "x7wQ4o7m4cZd"
   },
   "source": [
    "**Componentes Principais**"
   ]
  },
  {
   "cell_type": "code",
   "execution_count": null,
   "metadata": {
    "id": "p3wYSHWz4cZe"
   },
   "outputs": [],
   "source": [
    "from sklearn.decomposition import PCA"
   ]
  },
  {
   "cell_type": "code",
   "execution_count": null,
   "metadata": {
    "id": "LPhLF7m34cZe"
   },
   "outputs": [],
   "source": [
    "pca = PCA(n_components = 2)"
   ]
  },
  {
   "cell_type": "code",
   "execution_count": null,
   "metadata": {
    "id": "-uFbBkjA4cZe"
   },
   "outputs": [],
   "source": [
    "df2_pca = pca.fit_transform(df2_esc)"
   ]
  },
  {
   "cell_type": "code",
   "execution_count": null,
   "metadata": {
    "id": "Rxv2wJ264cZe"
   },
   "outputs": [],
   "source": [
    "df2_pca"
   ]
  },
  {
   "cell_type": "markdown",
   "metadata": {
    "id": "xp5KhWP3XfbD"
   },
   "source": [
    "**MeanShift**"
   ]
  },
  {
   "cell_type": "code",
   "execution_count": null,
   "metadata": {
    "id": "jdQIf5av4cZe"
   },
   "outputs": [],
   "source": [
    "from sklearn.cluster import MeanShift"
   ]
  },
  {
   "cell_type": "code",
   "execution_count": null,
   "metadata": {
    "id": "X3Vb3Jvc4cZe"
   },
   "outputs": [],
   "source": [
    "mean = MeanShift(bandwidth=1, cluster_all=True)"
   ]
  },
  {
   "cell_type": "code",
   "execution_count": null,
   "metadata": {
    "id": "wPzcYdfo5IM8"
   },
   "outputs": [],
   "source": [
    "mean.fit(df2_pca)"
   ]
  },
  {
   "cell_type": "code",
   "execution_count": null,
   "metadata": {
    "id": "urJbYO8_4cZf"
   },
   "outputs": [],
   "source": [
    "classificacao8 = mean.labels_\n",
    "classificacao8"
   ]
  },
  {
   "cell_type": "code",
   "execution_count": null,
   "metadata": {
    "id": "Ytbw059M4cZf"
   },
   "outputs": [],
   "source": [
    "import plotly.express as px"
   ]
  },
  {
   "cell_type": "code",
   "execution_count": null,
   "metadata": {
    "id": "H7KnG8JJ4cZf"
   },
   "outputs": [],
   "source": [
    "graf = px.scatter(x = df2_pca[:,0], y = df2_pca[:,1], color=classificacao8)\n",
    "graf.update_layout(width=800,height=500,title_text='Agrupamento MeanShift')\n",
    "graf.show()"
   ]
  },
  {
   "cell_type": "markdown",
   "metadata": {
    "id": "tc7lcrs-4cZf"
   },
   "source": [
    "**Agrupamento**"
   ]
  },
  {
   "cell_type": "code",
   "execution_count": null,
   "metadata": {
    "id": "XK7tguOi4cZf"
   },
   "outputs": [],
   "source": [
    "agrupamento8 = pd.DataFrame(classificacao8, columns = ['Grupo'])\n",
    "agrupamento8"
   ]
  },
  {
   "cell_type": "code",
   "execution_count": null,
   "metadata": {
    "id": "D6G0g90e4cZg"
   },
   "outputs": [],
   "source": [
    "df9 = pd.concat([df, agrupamento8],axis=1)\n",
    "df9"
   ]
  },
  {
   "cell_type": "code",
   "execution_count": null,
   "metadata": {
    "id": "1y4PmoTr4cZg"
   },
   "outputs": [],
   "source": [
    "df9.loc[df9.identificacao == 19] "
   ]
  },
  {
   "cell_type": "code",
   "execution_count": null,
   "metadata": {
    "id": "oeOzOg9S4cZg"
   },
   "outputs": [],
   "source": [
    "ruido = df9.loc[df9.Grupo == -1]\n",
    "ruido "
   ]
  },
  {
   "cell_type": "code",
   "execution_count": null,
   "metadata": {
    "id": "ksC1VmsqaOer"
   },
   "outputs": [],
   "source": [
    "grupo = df9.loc[df9.Grupo == 3]\n",
    "grupo.shape"
   ]
  },
  {
   "cell_type": "markdown",
   "metadata": {
    "id": "LPSZ9LAU4cZg"
   },
   "source": [
    "## **ALGORITMO MEANSHIFT: todos atributos**"
   ]
  },
  {
   "cell_type": "code",
   "execution_count": null,
   "metadata": {
    "id": "dYKMJ9WPG2jf"
   },
   "outputs": [],
   "source": [
    "df2_esc"
   ]
  },
  {
   "cell_type": "code",
   "execution_count": null,
   "metadata": {
    "id": "UIWnx7YzG2jn"
   },
   "outputs": [],
   "source": [
    "df2"
   ]
  },
  {
   "cell_type": "code",
   "execution_count": null,
   "metadata": {
    "id": "kz7OQAtOG2jo"
   },
   "outputs": [],
   "source": [
    "df2_esc.shape"
   ]
  },
  {
   "cell_type": "code",
   "execution_count": null,
   "metadata": {
    "id": "mqpk159XHGqW"
   },
   "outputs": [],
   "source": [
    "from sklearn.cluster import MeanShift"
   ]
  },
  {
   "cell_type": "code",
   "execution_count": null,
   "metadata": {
    "id": "p8Ydb7H0HGqX"
   },
   "outputs": [],
   "source": [
    "mean = MeanShift(bandwidth=1.5, cluster_all=True)"
   ]
  },
  {
   "cell_type": "code",
   "execution_count": null,
   "metadata": {
    "id": "X3XFkcQ4HGqY"
   },
   "outputs": [],
   "source": [
    "mean.fit(df2_esc)"
   ]
  },
  {
   "cell_type": "code",
   "execution_count": null,
   "metadata": {
    "id": "_sXhWx0vG2jq"
   },
   "outputs": [],
   "source": [
    "classificacao9 = mean.labels_\n",
    "classificacao9"
   ]
  },
  {
   "cell_type": "markdown",
   "metadata": {
    "id": "H5m91Jc5G2jq"
   },
   "source": [
    "**Agrupamento**"
   ]
  },
  {
   "cell_type": "code",
   "execution_count": null,
   "metadata": {
    "id": "ek70yriRG2jr"
   },
   "outputs": [],
   "source": [
    "agrupamento9 = pd.DataFrame(classificacao9, columns = ['Grupo'])\n",
    "agrupamento9"
   ]
  },
  {
   "cell_type": "code",
   "execution_count": null,
   "metadata": {
    "id": "1t1-R6YNG2js"
   },
   "outputs": [],
   "source": [
    "df10 = pd.concat([df, agrupamento9],axis=1)\n",
    "df10"
   ]
  },
  {
   "cell_type": "code",
   "execution_count": null,
   "metadata": {
    "id": "JyTKLU4kG2js"
   },
   "outputs": [],
   "source": [
    "df10.loc[df10.identificacao == 45] "
   ]
  },
  {
   "cell_type": "code",
   "execution_count": null,
   "metadata": {
    "id": "WA73SYArcnKb"
   },
   "outputs": [],
   "source": [
    "grupo = df10.loc[df10.Grupo == 4]\n",
    "grupo.shape"
   ]
  },
  {
   "cell_type": "markdown",
   "metadata": {
    "id": "fGeOjJIGSxje"
   },
   "source": [
    "## **K-PROTOTYPES**"
   ]
  },
  {
   "cell_type": "markdown",
   "metadata": {
    "id": "UBbMlcUNGjUP"
   },
   "source": [
    "Algoritmo para agrupamento de dados mistos (categóricos e numéricos). Documentação: https://pypi.org/project/kmodes/\n",
    "\n",
    "---\n",
    "\n"
   ]
  },
  {
   "cell_type": "code",
   "execution_count": null,
   "metadata": {
    "id": "kefbt73fSxGE"
   },
   "outputs": [],
   "source": [
    "df.head()"
   ]
  },
  {
   "cell_type": "code",
   "execution_count": null,
   "metadata": {
    "id": "4SWG0tCsJ5Jh"
   },
   "outputs": [],
   "source": [
    "dados= df[['genero','idade','rendimento', 'pontuacao']]\n",
    "dados"
   ]
  },
  {
   "cell_type": "code",
   "execution_count": null,
   "metadata": {
    "id": "YGYHy400LzIH"
   },
   "outputs": [],
   "source": [
    "pip install kmodes"
   ]
  },
  {
   "cell_type": "code",
   "execution_count": null,
   "metadata": {
    "id": "DiyH4dGmLfJ_"
   },
   "outputs": [],
   "source": [
    "from kmodes.kprototypes import KPrototypes"
   ]
  },
  {
   "cell_type": "code",
   "execution_count": null,
   "metadata": {
    "id": "R4oFBnxzLflo"
   },
   "outputs": [],
   "source": [
    "kproto = KPrototypes(n_clusters= 4)"
   ]
  },
  {
   "cell_type": "code",
   "execution_count": null,
   "metadata": {
    "id": "NhX1qZ2ZLiO1"
   },
   "outputs": [],
   "source": [
    "kproto1 = kproto.fit_predict(dados, categorical=[0])"
   ]
  },
  {
   "cell_type": "code",
   "execution_count": null,
   "metadata": {
    "id": "JGlMf6SrTT8k"
   },
   "outputs": [],
   "source": [
    "kproto1"
   ]
  },
  {
   "cell_type": "code",
   "execution_count": null,
   "metadata": {
    "id": "z0-pxdsuThGJ"
   },
   "outputs": [],
   "source": [
    "kproto1[4]"
   ]
  },
  {
   "cell_type": "code",
   "execution_count": null,
   "metadata": {
    "id": "9mUIs-UoTlMZ"
   },
   "outputs": [],
   "source": [
    "agrupamento = pd.DataFrame(kproto1, columns = ['grupo'])\n",
    "agrupamento"
   ]
  },
  {
   "cell_type": "code",
   "execution_count": null,
   "metadata": {
    "id": "RL-zBm4TT0VI"
   },
   "outputs": [],
   "source": [
    "df_final = pd.concat([df, agrupamento],axis=1)"
   ]
  },
  {
   "cell_type": "code",
   "execution_count": null,
   "metadata": {
    "id": "aqVV-4uKUnj-"
   },
   "outputs": [],
   "source": [
    "df_final.head()"
   ]
  },
  {
   "cell_type": "code",
   "execution_count": null,
   "metadata": {
    "id": "5LlRuMO1U0SN"
   },
   "outputs": [],
   "source": [
    "df_final.iloc[132 , :]"
   ]
  },
  {
   "cell_type": "code",
   "execution_count": null,
   "metadata": {
    "id": "0yaEJ1TOU95g"
   },
   "outputs": [],
   "source": [
    "grupo = df_final.loc[df_final.grupo ==3]\n",
    "grupo.head()"
   ]
  },
  {
   "cell_type": "code",
   "execution_count": null,
   "metadata": {
    "id": "tdBpUTehVHV-"
   },
   "outputs": [],
   "source": [
    "grupo.shape"
   ]
  },
  {
   "cell_type": "markdown",
   "metadata": {
    "id": "8TSQqqrQpEdy"
   },
   "source": [
    "## **K-MODES**"
   ]
  },
  {
   "cell_type": "markdown",
   "metadata": {
    "id": "Sy2s_M1dV8do"
   },
   "source": [
    "Algoritmo para agrupamento de dados categóricos. Documentação: https://pypi.org/project/kmodes/"
   ]
  },
  {
   "cell_type": "markdown",
   "metadata": {
    "id": "qAXAdeG5q7AB"
   },
   "source": [
    "https://www.kaggle.com/datasets/yukeshmarudhasalam/bankmarketing "
   ]
  },
  {
   "cell_type": "code",
   "execution_count": null,
   "metadata": {
    "id": "J1pA-Oi7a8a3"
   },
   "outputs": [],
   "source": [
    "import numpy as np\n",
    "import pandas as pd"
   ]
  },
  {
   "cell_type": "code",
   "execution_count": null,
   "metadata": {
    "id": "9-FCwLH-a8a5"
   },
   "outputs": [],
   "source": [
    "import warnings\n",
    "warnings.filterwarnings(\"ignore\")"
   ]
  },
  {
   "cell_type": "code",
   "execution_count": null,
   "metadata": {
    "id": "GOnQ1ousa8a6"
   },
   "outputs": [],
   "source": [
    "df = pd.read_csv('/content/drive/MyDrive/Cursos_Udemy/Machine_Learning_com_Python/bankmarketing.csv',\n",
    "                    sep=',', encoding='iso-8859-1')"
   ]
  },
  {
   "cell_type": "code",
   "execution_count": null,
   "metadata": {
    "id": "HnPB-u58bKmk"
   },
   "outputs": [],
   "source": [
    "df.head()"
   ]
  },
  {
   "cell_type": "code",
   "execution_count": null,
   "metadata": {
    "id": "k5LBxaOV_zBy"
   },
   "outputs": [],
   "source": [
    "df.shape"
   ]
  },
  {
   "cell_type": "code",
   "execution_count": null,
   "metadata": {
    "id": "DboPtFlObrBO"
   },
   "outputs": [],
   "source": [
    "df.columns"
   ]
  },
  {
   "cell_type": "code",
   "execution_count": null,
   "metadata": {
    "id": "AWzzpMm6NXLC"
   },
   "outputs": [],
   "source": [
    "df.dtypes"
   ]
  },
  {
   "cell_type": "markdown",
   "metadata": {
    "id": "xTyyVFdg331C"
   },
   "source": [
    "**Variáveis**\n",
    "\n",
    "**age** : idade (numérica)\n",
    "\n",
    "**job** : tipo de trabalho (categorias: 'admin.','blue-collar','entrepreneur(empreendedor)','housemaid','management (gestão)','retired (aposentado)','self-employed (autônomo)','services','student','technician','unemployed (desempregado)','unknown')\n",
    "\n",
    "**marital** : estado civil (categorias: 'divorced','married','single','unknown'; obs.: 'divorced' significa divorciado ou viúvo (a))\n",
    "\n",
    "**education**: nível escolar (categorias: 'basic.4y','basic.6y','basic.9y','high.school','illiterate','professional.course','university.degree','unknown')\n",
    "\n",
    "**default**: inadimplência (categorias: 'no','yes','unknown')\n",
    "\n",
    "**housing**: crédito de habitação (categorias: 'no','yes','unknown')\n",
    "\n",
    "**loan**: empréstimo pessoal (categorias: 'no','yes','unknown')\n",
    "\n",
    "**contact**: contato (categorias: 'cellular','telephone')\n",
    "\n",
    "**month**: último mês de contato (categorias: 'jan', 'feb', 'mar', 'april', 'may', 'jun', 'jul', 'aug', 'sep', 'oct', 'nov', 'dec')\n",
    "\n",
    "**day_of_week**: último dia de contato (categorical: 'mon','tue','wed','thu','fri')\n",
    "\n",
    "**poutcome:** resultado do marketing anterior (categorical: 'failure','nonexistent','success')"
   ]
  },
  {
   "cell_type": "code",
   "execution_count": null,
   "metadata": {
    "id": "zbRGgfSEuyJk"
   },
   "outputs": [],
   "source": [
    "df2 = df[['age','job', 'marital', 'education', 'default', 'housing', 'loan','contact','month','day_of_week','poutcome']]\n",
    "df2"
   ]
  },
  {
   "cell_type": "code",
   "execution_count": null,
   "metadata": {
    "id": "qnt_hkYtMz3q"
   },
   "outputs": [],
   "source": [
    "df3 = df2.copy()"
   ]
  },
  {
   "cell_type": "code",
   "execution_count": null,
   "metadata": {
    "id": "tqs_KhtR8dlo"
   },
   "outputs": [],
   "source": [
    "df3['faixa_idade'] = pd.cut(df3['age'], [0, 20, 30, 40, 50, 60, 70, 80, 90, 100], \n",
    "                              labels=['0-20', '20-30', '30-40', '40-50','50-60','60-70','70-80', '80-90','90-100'])"
   ]
  },
  {
   "cell_type": "code",
   "execution_count": null,
   "metadata": {
    "id": "bMn8x7L5Z6Eo"
   },
   "outputs": [],
   "source": [
    "df3  = df3.drop('age',axis = 1)"
   ]
  },
  {
   "cell_type": "code",
   "execution_count": null,
   "metadata": {
    "id": "qw4PTh0181Po"
   },
   "outputs": [],
   "source": [
    "df3.head(30)"
   ]
  },
  {
   "cell_type": "code",
   "execution_count": null,
   "metadata": {
    "id": "h_FW5rhnAQjO"
   },
   "outputs": [],
   "source": [
    "df3.dtypes"
   ]
  },
  {
   "cell_type": "code",
   "execution_count": null,
   "metadata": {
    "id": "wYWAljo_9Czm"
   },
   "outputs": [],
   "source": [
    "df3.isnull().sum()"
   ]
  },
  {
   "cell_type": "markdown",
   "metadata": {
    "id": "FSJ5rQv9TvoI"
   },
   "source": [
    "### **Pré-processamento**"
   ]
  },
  {
   "cell_type": "markdown",
   "metadata": {
    "id": "3SQ7ZdUbcymf"
   },
   "source": [
    "**Transformação para codificação numérica**"
   ]
  },
  {
   "cell_type": "code",
   "execution_count": null,
   "metadata": {
    "id": "XAmAjHTuBB_6"
   },
   "outputs": [],
   "source": [
    "from sklearn import preprocessing\n",
    "df4 = df3.apply(preprocessing.LabelEncoder().fit_transform)\n",
    "df4.head()"
   ]
  },
  {
   "cell_type": "markdown",
   "metadata": {
    "id": "h2OyYFATUG7N"
   },
   "source": [
    "### **Instalação**"
   ]
  },
  {
   "cell_type": "code",
   "execution_count": null,
   "metadata": {
    "id": "Pk8tlQVRCMOH"
   },
   "outputs": [],
   "source": [
    "pip install kmodes"
   ]
  },
  {
   "cell_type": "code",
   "execution_count": null,
   "metadata": {
    "id": "yeOlBx-aBd6O"
   },
   "outputs": [],
   "source": [
    "from kmodes.kmodes import KModes"
   ]
  },
  {
   "cell_type": "code",
   "execution_count": null,
   "metadata": {
    "id": "UWxY3oj1CR4W"
   },
   "outputs": [],
   "source": [
    "?KModes"
   ]
  },
  {
   "cell_type": "markdown",
   "metadata": {
    "id": "RQOPPeKZE6YV"
   },
   "source": [
    "### **NÚMERO DE CLUSTERS \"IDEAL\"**"
   ]
  },
  {
   "cell_type": "code",
   "execution_count": null,
   "metadata": {
    "id": "v7iQvSCOE6YW"
   },
   "outputs": [],
   "source": [
    "custo = []\n",
    "for num_clusters in list(range(1,10)):\n",
    "    kmode = KModes(n_clusters=num_clusters, n_init = 2, verbose=1)\n",
    "    kmode.fit_predict(df4)\n",
    "    custo.append(kmode.cost_)"
   ]
  },
  {
   "cell_type": "code",
   "execution_count": null,
   "metadata": {
    "id": "XnmghpALGTRm"
   },
   "outputs": [],
   "source": [
    "import matplotlib.pyplot as plt\n",
    "y = np.array([i for i in range(1,10,1)])\n",
    "plt.plot(y,custo);"
   ]
  },
  {
   "cell_type": "code",
   "execution_count": null,
   "metadata": {
    "id": "n0gRmgGdHuwD"
   },
   "outputs": [],
   "source": [
    "kmd = KModes(n_clusters=4, verbose=1)\n",
    "kmd1 = kmd.fit_predict(df4)"
   ]
  },
  {
   "cell_type": "code",
   "execution_count": null,
   "metadata": {
    "id": "VX0Pc7uzIln4"
   },
   "outputs": [],
   "source": [
    "kmd1"
   ]
  },
  {
   "cell_type": "code",
   "execution_count": null,
   "metadata": {
    "id": "LDwHiC5vJ0B-"
   },
   "outputs": [],
   "source": [
    "kmd1[40000]"
   ]
  },
  {
   "cell_type": "code",
   "execution_count": null,
   "metadata": {
    "id": "70tQ6RjpKz7B"
   },
   "outputs": [],
   "source": [
    "agrupamento = pd.DataFrame(kmd1, columns = ['grupo'])\n",
    "agrupamento"
   ]
  },
  {
   "cell_type": "code",
   "execution_count": null,
   "metadata": {
    "id": "aGr_5uBuKz7D"
   },
   "outputs": [],
   "source": [
    "df5 = pd.concat([df2, agrupamento],axis=1)"
   ]
  },
  {
   "cell_type": "code",
   "execution_count": null,
   "metadata": {
    "id": "XvtJ--8yLLal"
   },
   "outputs": [],
   "source": [
    "df5.head()"
   ]
  },
  {
   "cell_type": "code",
   "execution_count": null,
   "metadata": {
    "id": "dh1lJ4UvKz7D"
   },
   "outputs": [],
   "source": [
    "df5.iloc[33284 , :]"
   ]
  },
  {
   "cell_type": "code",
   "execution_count": null,
   "metadata": {
    "id": "Vy8u1CuRJp0R"
   },
   "outputs": [],
   "source": [
    "grupo = df5.loc[df5.grupo == 3]\n",
    "grupo.head()"
   ]
  },
  {
   "cell_type": "code",
   "execution_count": null,
   "metadata": {
    "id": "fV8_czHTO2RP"
   },
   "outputs": [],
   "source": [
    "grupo.shape"
   ]
  },
  {
   "cell_type": "code",
   "execution_count": null,
   "metadata": {
    "id": "OYv6qLsLQBQd"
   },
   "outputs": [],
   "source": [
    "import matplotlib.pyplot as plt\n",
    "import seaborn as sns"
   ]
  },
  {
   "cell_type": "code",
   "execution_count": null,
   "metadata": {
    "id": "ZkDyiCc_P3od"
   },
   "outputs": [],
   "source": [
    "plt.subplots(figsize = (15,5))\n",
    "sns.countplot(x=df5['job'], order=df5['job'].value_counts().index, hue=df5['grupo'])\n",
    "plt.show()"
   ]
  },
  {
   "cell_type": "markdown",
   "metadata": {
    "id": "jJbmIvWtqVFM"
   },
   "source": [
    "## **DESAFIO 5**"
   ]
  },
  {
   "cell_type": "markdown",
   "metadata": {
    "id": "93TC2-XbSpjX"
   },
   "source": [
    "DESENVOLVER E SELECIONAR O MELHOR ALGORITMO DE MACHINE LEARNING DE AGRUPAMENTO PARA O DATASET DO LINK A SEGUIR:"
   ]
  },
  {
   "cell_type": "markdown",
   "metadata": {
    "id": "kYjMQob4qTfq"
   },
   "source": [
    "https://www.kaggle.com/harrywang/wine-dataset-for-clustering "
   ]
  }
 ],
 "metadata": {
  "colab": {
   "name": "agrupamento.ipynb",
   "provenance": []
  },
  "kernelspec": {
   "display_name": "Python 3 (ipykernel)",
   "language": "python",
   "name": "python3"
  },
  "language_info": {
   "codemirror_mode": {
    "name": "ipython",
    "version": 3
   },
   "file_extension": ".py",
   "mimetype": "text/x-python",
   "name": "python",
   "nbconvert_exporter": "python",
   "pygments_lexer": "ipython3",
   "version": "3.9.12"
  }
 },
 "nbformat": 4,
 "nbformat_minor": 1
}
